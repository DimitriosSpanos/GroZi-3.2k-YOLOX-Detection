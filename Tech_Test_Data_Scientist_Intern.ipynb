{
  "nbformat": 4,
  "nbformat_minor": 0,
  "metadata": {
    "colab": {
      "name": "Tech Test - Data Scientist Intern.ipynb",
      "provenance": [],
      "authorship_tag": "ABX9TyPv9BBziARvArmqaU/Azo5v",
      "include_colab_link": true
    },
    "kernelspec": {
      "name": "python3",
      "display_name": "Python 3"
    },
    "language_info": {
      "name": "python"
    }
  },
  "cells": [
    {
      "cell_type": "markdown",
      "metadata": {
        "id": "view-in-github",
        "colab_type": "text"
      },
      "source": [
        "<a href=\"https://colab.research.google.com/github/DimitriosSpanos/GroZi-3.2k-YOLOX-Detection/blob/main/Tech_Test_Data_Scientist_Intern.ipynb\" target=\"_parent\"><img src=\"https://colab.research.google.com/assets/colab-badge.svg\" alt=\"Open In Colab\"/></a>"
      ]
    },
    {
      "cell_type": "markdown",
      "source": [
        "# ***Dimitrios Spanos - Be Memorable AI***\n",
        "\n",
        "This Notebook uses the YOLOX Architecture from \"https://github.com/Megvii-BaseDetection/YOLOX\""
      ],
      "metadata": {
        "id": "Ey01SSb1SzY5"
      }
    },
    {
      "cell_type": "code",
      "execution_count": null,
      "metadata": {
        "id": "Lka1nRtYSvcP"
      },
      "outputs": [],
      "source": [
        "# Setup YOLOX and PyTorch\n",
        "!git clone https://github.com/Megvii-BaseDetection/YOLOX\n",
        "%cd YOLOX\n",
        "!pip3 install -U pip && pip3 install -r requirements.txt\n",
        "!pip3 install -v -e .  # or  python3 setup.py develop\n",
        "#!pip uninstall -y torch torchvision torchaudio\n",
        "#!pip install torch==1.8.0+cu111 torchvision==0.9.0+cu111 torchaudio==0.8.0 -f https://download.pytorch.org/whl/torch_stable.html\n",
        "\n",
        "#%cd /content/\n",
        "#!git clone https://github.com/NVIDIA/apex\n",
        "#%cd apex\n",
        "#!pip install -v --disable-pip-version-check --no-cache-dir --global-option=\"--cpp_ext\" --global-option=\"--cuda_ext\" ./\n",
        "#!pip3 install cython; pip3 install 'git+https://github.com/cocodataset/cocoapi.git#subdirectory=PythonAPI'"
      ]
    }
  ]
}