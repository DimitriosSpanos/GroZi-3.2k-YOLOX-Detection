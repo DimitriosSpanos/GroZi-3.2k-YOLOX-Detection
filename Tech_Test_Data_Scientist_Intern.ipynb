{
  "nbformat": 4,
  "nbformat_minor": 0,
  "metadata": {
    "colab": {
      "name": "Tech Test - Data Scientist Intern.ipynb",
      "provenance": [],
      "collapsed_sections": [],
      "include_colab_link": true
    },
    "kernelspec": {
      "name": "python3",
      "display_name": "Python 3"
    },
    "language_info": {
      "name": "python"
    },
    "accelerator": "GPU"
  },
  "cells": [
    {
      "cell_type": "markdown",
      "metadata": {
        "id": "view-in-github",
        "colab_type": "text"
      },
      "source": [
        "<a href=\"https://colab.research.google.com/github/DimitriosSpanos/GroZi-3.2k-YOLOX-Detection/blob/main/Tech_Test_Data_Scientist_Intern.ipynb\" target=\"_parent\"><img src=\"https://colab.research.google.com/assets/colab-badge.svg\" alt=\"Open In Colab\"/></a>"
      ]
    },
    {
      "cell_type": "markdown",
      "source": [
        "# ***Dimitrios Spanos - Be Memorable AI***\n",
        "\n",
        "This Notebook uses the YOLOX Architecture from \"https://github.com/Megvii-BaseDetection/YOLOX\""
      ],
      "metadata": {
        "id": "Ey01SSb1SzY5"
      }
    },
    {
      "cell_type": "code",
      "execution_count": null,
      "metadata": {
        "id": "Lka1nRtYSvcP"
      },
      "outputs": [],
      "source": [
        "# Setup YOLOX and PyTorch\n",
        "!git clone https://github.com/Megvii-BaseDetection/YOLOX\n",
        "%cd YOLOX\n",
        "!pip3 install -U pip && pip3 install -r requirements.txt\n",
        "!pip3 install -v -e .  # or  python3 setup.py develop\n",
        "\n",
        "\n",
        "#%cd /content/\n",
        "#!git clone https://github.com/NVIDIA/apex\n",
        "#%cd apex\n",
        "#!pip install -v --disable-pip-version-check --no-cache-dir --global-option=\"--cpp_ext\" --global-option=\"--cuda_ext\" ./\n",
        "!pip3 install cython; pip3 install 'git+https://github.com/cocodataset/cocoapi.git#subdirectory=PythonAPI'"
      ]
    },
    {
      "cell_type": "code",
      "source": [
        "# Google Drive has \"grozi_coco\" folder\n",
        "from google.colab import drive\n",
        "drive.mount('/content/drive')"
      ],
      "metadata": {
        "id": "4qPVnM041EMF"
      },
      "execution_count": null,
      "outputs": []
    },
    {
      "cell_type": "code",
      "source": [
        "%cd YOLOX/\n",
        "!ln -s drive/MyDrive/grozi_coco ./datasets/grozi_coco\n",
        "\n",
        "from IPython.core.magic import register_line_cell_magic\n",
        "\n",
        "@register_line_cell_magic\n",
        "def writetemplate(line, cell):\n",
        "    with open(line, 'w') as f:\n",
        "        f.write(cell.format(**globals()))\n",
        "\n",
        "##REPLACE this cell with your classnames stripped of whitespace and lowercase\n",
        "%%writetemplate /content/YOLOX/yolox/data/datasets/coco_classes.py\n",
        "\n",
        "COCO_CLASSES = (\n",
        "  \"\",\n",
        ")\n",
        "\n",
        "NUM_CLASSES = 1\n",
        "!sed -i -e 's/self.num_classes = 20/self.num_classes = {NUM_CLASSES}/g' \"/content/YOLOX/exps/example/yolox_voc/yolox_voc_s.py\"\n",
        "\n",
        "%cd /content/\n",
        "!wget https://github.com/Megvii-BaseDetection/storage/releases/download/0.0.1/yolox_s.pth\n",
        "%cd /content/YOLOX/"
      ],
      "metadata": {
        "id": "54celg_s7DA8"
      },
      "execution_count": null,
      "outputs": []
    }
  ]
}