{
  "nbformat": 4,
  "nbformat_minor": 0,
  "metadata": {
    "colab": {
      "name": "Tech Test - Data Scientist Intern.ipynb",
      "provenance": [],
      "collapsed_sections": [],
      "include_colab_link": true
    },
    "kernelspec": {
      "name": "python3",
      "display_name": "Python 3"
    },
    "language_info": {
      "name": "python"
    },
    "accelerator": "GPU"
  },
  "cells": [
    {
      "cell_type": "markdown",
      "metadata": {
        "id": "view-in-github",
        "colab_type": "text"
      },
      "source": [
        "<a href=\"https://colab.research.google.com/github/DimitriosSpanos/GroZi-3.2k-YOLOX-Detection/blob/main/Tech_Test_Data_Scientist_Intern.ipynb\" target=\"_parent\"><img src=\"https://colab.research.google.com/assets/colab-badge.svg\" alt=\"Open In Colab\"/></a>"
      ]
    },
    {
      "cell_type": "markdown",
      "source": [
        "# ***Dimitrios Spanos - Be Memorable AI***\n",
        "\n",
        "This Notebook uses the YOLOX Architecture from \"https://github.com/Megvii-BaseDetection/YOLOX\""
      ],
      "metadata": {
        "id": "Ey01SSb1SzY5"
      }
    },
    {
      "cell_type": "code",
      "execution_count": null,
      "metadata": {
        "id": "Lka1nRtYSvcP"
      },
      "outputs": [],
      "source": [
        "# Setup YOLOX and PyTorch\n",
        "!git clone https://github.com/Megvii-BaseDetection/YOLOX\n",
        "%cd YOLOX\n",
        "!pip3 install -U pip && pip3 install -r requirements.txt\n",
        "!pip3 install -v -e .  # or  python3 setup.py develop\n",
        "\n",
        "\n",
        "#%cd /content/\n",
        "#!git clone https://github.com/NVIDIA/apex\n",
        "#%cd apex\n",
        "#!pip install -v --disable-pip-version-check --no-cache-dir --global-option=\"--cpp_ext\" --global-option=\"--cuda_ext\" ./\n",
        "!pip3 install cython; pip3 install 'git+https://github.com/cocodataset/cocoapi.git#subdirectory=PythonAPI'"
      ]
    },
    {
      "cell_type": "code",
      "source": [
        "# Google Drive has \"grozi_coco\" folder\n",
        "from google.colab import drive\n",
        "drive.mount('/content/drive')"
      ],
      "metadata": {
        "id": "4qPVnM041EMF",
        "outputId": "53879468-c0e8-413d-9ba2-39b70ed64f9c",
        "colab": {
          "base_uri": "https://localhost:8080/"
        }
      },
      "execution_count": 2,
      "outputs": [
        {
          "output_type": "stream",
          "name": "stdout",
          "text": [
            "Mounted at /content/drive\n"
          ]
        }
      ]
    },
    {
      "cell_type": "code",
      "source": [
        "coco_annotation_file_path = \"/content/drive/MyDrive/grozi_coco/annotations/instances_val2017.json\"\n",
        "import numpy as np\n",
        "import matplotlib\n",
        "matplotlib.use('Agg')\n",
        "import matplotlib.pyplot as plt\n",
        "from PIL import Image\n",
        "import requests\n",
        "from pycocotools.coco import COCO\n",
        "\n",
        "coco_annotation = COCO(annotation_file=coco_annotation_file_path)\n",
        "\n",
        "# Category IDs.\n",
        "cat_ids = coco_annotation.getCatIds()\n",
        "print(f\"Number of Unique Categories: {len(cat_ids)}\")\n",
        "print(\"Category IDs:\")\n",
        "print(cat_ids)  # The IDs are not necessarily consecutive.\n",
        "\n",
        "# # All categories.\n",
        "cats = coco_annotation.loadCats(cat_ids)\n",
        "cat_names = [cat[\"name\"] for cat in cats]\n",
        "print(\"Categories Names:\")\n",
        "print(cat_names)\n",
        "\n",
        "# # Category ID -> Category Name.\n",
        "query_id = cat_ids[0]\n",
        "query_annotation = coco_annotation.loadCats([query_id])[0]\n",
        "query_name = query_annotation[\"name\"]\n",
        "query_supercategory = query_annotation[\"supercategory\"]\n",
        "print(\"Category ID -> Category Name:\")\n",
        "print(\n",
        "    f\"Category ID: {query_id}, Category Name: {query_name}, Supercategory: {query_supercategory}\"\n",
        ")\n",
        "\n",
        "# Category Name -> Category ID.\n",
        "query_name = cat_names[2]\n",
        "query_id = coco_annotation.getCatIds(catNms=[query_name])[0]\n",
        "print(\"Category Name -> ID:\")\n",
        "print(f\"Category Name: {query_name}, Category ID: {query_id}\")\n",
        "\n",
        "# # Get the ID of all the images containing the object of the category.\n",
        "img_ids = coco_annotation.getImgIds(catIds=[query_id])\n",
        "# print(f\"Number of Images Containing {query_name}: {len(img_ids)}\")\n",
        "\n",
        "# Pick one image.\n",
        "img_id = img_ids[0]\n",
        "img_info = coco_annotation.loadImgs([img_id])[0]\n",
        "img_file_name = img_info[\"file_name\"]\n",
        "img_url = img_info[\"coco_url\"]\n",
        "print(\n",
        "    f\"Image ID: {img_id}, File Name: {img_file_name}, Image URL: {img_url}\"\n",
        ")\n",
        "\n",
        "# Get all the annotations for the specified image.\n",
        "ann_ids = coco_annotation.getAnnIds(imgIds=[img_id], iscrowd=None)\n",
        "anns = coco_annotation.loadAnns(ann_ids)\n",
        "print(f\"Annotations for Image ID {img_id}:\")\n",
        "print(anns)\n",
        "\n",
        "# # Use URL to load image.\n",
        "# im = Image.open(requests.get(img_url, stream=True).raw)\n",
        "\n",
        "# # Save image and its labeled version.\n",
        "# plt.axis(\"off\")\n",
        "# plt.imshow(np.asarray(im))\n",
        "# plt.savefig(f\"{img_id}.jpg\", bbox_inches=\"tight\", pad_inches=0)\n",
        "# # Plot segmentation and bounding box.\n",
        "# coco_annotation.showAnns(anns, draw_bbox=True)\n",
        "# plt.savefig(f\"{img_id}_annotated.jpg\", bbox_inches=\"tight\", pad_inches=0)\n"
      ],
      "metadata": {
        "id": "0uqR5qi9k07V",
        "outputId": "1ba03570-b0f9-44b8-d9d4-f07aace9c032",
        "colab": {
          "base_uri": "https://localhost:8080/",
          "height": 480
        }
      },
      "execution_count": 8,
      "outputs": [
        {
          "output_type": "stream",
          "name": "stdout",
          "text": [
            "loading annotations into memory...\n",
            "Done (t=0.01s)\n",
            "creating index...\n",
            "index created!\n",
            "Number of Unique Categories: 185\n",
            "Category IDs:\n",
            "[30, 65, 86, 1006, 150, 151, 153, 154, 173, 174, 175, 176, 198, 211, 212, 233, 234, 240, 255, 1013, 262, 310, 306, 311, 331, 334, 1017, 341, 342, 343, 344, 345, 1018, 348, 1019, 353, 1020, 354, 1021, 355, 1022, 366, 415, 419, 437, 438, 439, 440, 441, 448, 449, 450, 460, 475, 476, 477, 478, 479, 480, 481, 482, 483, 1032, 484, 1033, 485, 488, 489, 499, 500, 501, 506, 507, 508, 515, 516, 517, 521, 520, 522, 523, 524, 525, 526, 527, 530, 539, 544, 545, 551, 552, 553, 554, 555, 559, 560, 561, 1037, 562, 563, 564, 582, 583, 584, 591, 593, 594, 595, 596, 603, 616, 624, 625, 1041, 627, 628, 629, 630, 1045, 684, 702, 704, 709, 710, 718, 719, 720, 730, 737, 1047, 746, 747, 748, 753, 754, 759, 40, 1217, 790, 796, 797, 804, 810, 816, 840, 841, 844, 845, 846, 872, 889, 1064, 1065, 1066, 1076, 1080, 1095, 1106, 1107, 1109, 1110, 1111, 1112, 1114, 1119, 1121, 1124, 1125, 1126, 1131, 1132, 1137, 1142, 1143, 1160, 1163, 1168, 1200, 1202, 1208, 1209, 1177, 1180, 1181, 442]\n",
            "Categories Names:\n",
            "['30.jpg', '65.jpg', '86.jpg', '1006.jpg', '150.jpg', '151.jpg', '153.jpg', '154.jpg', '173.jpg', '174.jpg', '175.jpg', '176.jpg', '198.jpg', '211.jpg', '212.jpg', '233.jpg', '234.jpg', '240.jpg', '255.jpg', '1013.jpg', '262.jpg', '310.jpg', '306.jpg', '311.jpg', '331.jpg', '334.jpg', '1017.jpg', '341.jpg', '342.jpg', '343.jpg', '344.jpg', '345.jpg', '1018.jpg', '348.jpg', '1019.jpg', '353.jpg', '1020.jpg', '354.jpg', '1021.jpg', '355.jpg', '1022.jpg', '366.jpg', '415.jpg', '419.jpg', '437.jpg', '438.jpg', '439.jpg', '440.jpg', '441.jpg', '448.jpg', '449.jpg', '450.jpg', '460.jpg', '475.jpg', '476.jpg', '477.jpg', '478.jpg', '479.jpg', '480.jpg', '481.jpg', '482.jpg', '483.jpg', '1032.jpg', '484.jpg', '1033.jpg', '485.jpg', '488.jpg', '489.jpg', '499.jpg', '500.jpg', '501.jpg', '506.jpg', '507.jpg', '508.jpg', '515.jpg', '516.jpg', '517.jpg', '521.jpg', '520.jpg', '522.jpg', '523.jpg', '524.jpg', '525.jpg', '526.jpg', '527.jpg', '530.jpg', '539.jpg', '544.jpg', '545.jpg', '551.jpg', '552.jpg', '553.jpg', '554.jpg', '555.jpg', '559.jpg', '560.jpg', '561.jpg', '1037.jpg', '562.jpg', '563.jpg', '564.jpg', '582.jpg', '583.jpg', '584.jpg', '591.jpg', '593.jpg', '594.jpg', '595.jpg', '596.jpg', '603.jpg', '616.jpg', '624.jpg', '625.jpg', '1041.jpg', '627.jpg', '628.jpg', '629.jpg', '630.jpg', '1045.jpg', '684.jpg', '702.jpg', '704.jpg', '709.jpg', '710.jpg', '718.jpg', '719.jpg', '720.jpg', '730.jpg', '737.jpg', '1047.jpg', '746.jpg', '747.jpg', '748.jpg', '753.jpg', '754.jpg', '759.jpg', '40.jpg', '1217.jpg', '790.jpg', '796.jpg', '797.jpg', '804.jpg', '810.jpg', '816.jpg', '840.jpg', '841.jpg', '844.jpg', '845.jpg', '846.jpg', '872.jpg', '889.jpg', '1064.jpg', '1065.jpg', '1066.jpg', '1076.jpg', '1080.jpg', '1095.jpg', '1106.jpg', '1107.jpg', '1109.jpg', '1110.jpg', '1111.jpg', '1112.jpg', '1114.jpg', '1119.jpg', '1121.jpg', '1124.jpg', '1125.jpg', '1126.jpg', '1131.jpg', '1132.jpg', '1137.jpg', '1142.jpg', '1143.jpg', '1160.jpg', '1163.jpg', '1168.jpg', '1200.jpg', '1202.jpg', '1208.jpg', '1209.jpg', '1177.jpg', '1180.jpg', '1181.jpg', '442.jpg']\n",
            "Category ID -> Category Name:\n",
            "Category ID: 30, Category Name: 30.jpg, Supercategory: none\n",
            "Category Name -> ID:\n",
            "Category Name: 86.jpg, Category ID: 86\n"
          ]
        },
        {
          "output_type": "error",
          "ename": "KeyError",
          "evalue": "ignored",
          "traceback": [
            "\u001b[0;31m---------------------------------------------------------------------------\u001b[0m",
            "\u001b[0;31mKeyError\u001b[0m                                  Traceback (most recent call last)",
            "\u001b[0;32m<ipython-input-8-8989116fb372>\u001b[0m in \u001b[0;36m<module>\u001b[0;34m()\u001b[0m\n\u001b[1;32m     46\u001b[0m \u001b[0mimg_info\u001b[0m \u001b[0;34m=\u001b[0m \u001b[0mcoco_annotation\u001b[0m\u001b[0;34m.\u001b[0m\u001b[0mloadImgs\u001b[0m\u001b[0;34m(\u001b[0m\u001b[0;34m[\u001b[0m\u001b[0mimg_id\u001b[0m\u001b[0;34m]\u001b[0m\u001b[0;34m)\u001b[0m\u001b[0;34m[\u001b[0m\u001b[0;36m0\u001b[0m\u001b[0;34m]\u001b[0m\u001b[0;34m\u001b[0m\u001b[0;34m\u001b[0m\u001b[0m\n\u001b[1;32m     47\u001b[0m \u001b[0mimg_file_name\u001b[0m \u001b[0;34m=\u001b[0m \u001b[0mimg_info\u001b[0m\u001b[0;34m[\u001b[0m\u001b[0;34m\"file_name\"\u001b[0m\u001b[0;34m]\u001b[0m\u001b[0;34m\u001b[0m\u001b[0;34m\u001b[0m\u001b[0m\n\u001b[0;32m---> 48\u001b[0;31m \u001b[0mimg_url\u001b[0m \u001b[0;34m=\u001b[0m \u001b[0mimg_info\u001b[0m\u001b[0;34m[\u001b[0m\u001b[0;34m\"coco_url\"\u001b[0m\u001b[0;34m]\u001b[0m\u001b[0;34m\u001b[0m\u001b[0;34m\u001b[0m\u001b[0m\n\u001b[0m\u001b[1;32m     49\u001b[0m print(\n\u001b[1;32m     50\u001b[0m     \u001b[0;34mf\"Image ID: {img_id}, File Name: {img_file_name}, Image URL: {img_url}\"\u001b[0m\u001b[0;34m\u001b[0m\u001b[0;34m\u001b[0m\u001b[0m\n",
            "\u001b[0;31mKeyError\u001b[0m: 'coco_url'"
          ]
        }
      ]
    },
    {
      "cell_type": "code",
      "source": [
        "%cd YOLOX/\n",
        "!ln -s drive/MyDrive/grozi_coco ./datasets/grozi_coco\n",
        "\n",
        "from IPython.core.magic import register_line_cell_magic\n",
        "\n",
        "@register_line_cell_magic\n",
        "def writetemplate(line, cell):\n",
        "    with open(line, 'w') as f:\n",
        "        f.write(cell.format(**globals()))\n",
        "\n",
        "##REPLACE this cell with your classnames stripped of whitespace and lowercase\n",
        "%%writetemplate /content/YOLOX/yolox/data/datasets/coco_classes.py\n",
        "\n",
        "COCO_CLASSES = (\n",
        "  \"\",\n",
        ")\n",
        "\n",
        "NUM_CLASSES = 1\n",
        "!sed -i -e 's/self.num_classes = 20/self.num_classes = {NUM_CLASSES}/g' \"/content/YOLOX/exps/example/yolox_voc/yolox_voc_s.py\"\n",
        "\n",
        "%cd /content/\n",
        "!wget https://github.com/Megvii-BaseDetection/storage/releases/download/0.0.1/yolox_s.pth\n",
        "%cd /content/YOLOX/"
      ],
      "metadata": {
        "id": "54celg_s7DA8"
      },
      "execution_count": null,
      "outputs": []
    }
  ]
}